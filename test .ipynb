{
 "cells": [
  {
   "cell_type": "code",
   "execution_count": 1,
   "metadata": {},
   "outputs": [
    {
     "name": "stderr",
     "output_type": "stream",
     "text": [
      "c:\\Users\\ahmed\\AppData\\Local\\Programs\\Python\\Python311\\Lib\\site-packages\\sentence_transformers\\cross_encoder\\CrossEncoder.py:13: TqdmExperimentalWarning: Using `tqdm.autonotebook.tqdm` in notebook mode. Use `tqdm.tqdm` instead to force console mode (e.g. in jupyter console)\n",
      "  from tqdm.autonotebook import tqdm, trange\n"
     ]
    },
    {
     "name": "stdout",
     "output_type": "stream",
     "text": [
      "WARNING:tensorflow:From c:\\Users\\ahmed\\AppData\\Local\\Programs\\Python\\Python311\\Lib\\site-packages\\tf_keras\\src\\losses.py:2976: The name tf.losses.sparse_softmax_cross_entropy is deprecated. Please use tf.compat.v1.losses.sparse_softmax_cross_entropy instead.\n",
      "\n"
     ]
    }
   ],
   "source": [
    "import pandas as pd\n",
    "import numpy as np\n",
    "from sentence_transformers import SentenceTransformer\n",
    "import hnswlib\n",
    "\n",
    "import streamlit as st\n",
    "\n",
    "path = 'D:\\Ahmed\\GitHub projects\\personalised-recommendation-system\\All Appliances.csv'\n",
    "model = SentenceTransformer('all-MiniLM-L6-v2')"
   ]
  },
  {
   "cell_type": "code",
   "execution_count": 2,
   "metadata": {},
   "outputs": [],
   "source": [
    "def read_data(path):\n",
    "    data = pd.read_csv(path)\n",
    "    data['combined_features'] = data['name'] + ' ' + \\\n",
    "        data['main_category'] + ' '+data['sub_category']\n",
    "    return data"
   ]
  },
  {
   "cell_type": "code",
   "execution_count": 3,
   "metadata": {},
   "outputs": [
    {
     "name": "stdout",
     "output_type": "stream",
     "text": [
      "read data done\n",
      "select data done\n"
     ]
    }
   ],
   "source": [
    "selected_category = 'appliances'\n",
    "search_query = 'Kettle'\n",
    "data = read_data(path)\n",
    "print('read data done')\n",
    "selected_data = data[data['main_category'] == selected_category]\n",
    "print('select data done')"
   ]
  },
  {
   "cell_type": "code",
   "execution_count": 4,
   "metadata": {},
   "outputs": [],
   "source": [
    "sentences = selected_data['combined_features'].to_list()\n"
   ]
  },
  {
   "cell_type": "code",
   "execution_count": 5,
   "metadata": {},
   "outputs": [],
   "source": [
    "# embeddings = model.encode(sentences)"
   ]
  },
  {
   "cell_type": "code",
   "execution_count": 6,
   "metadata": {},
   "outputs": [],
   "source": [
    "# type(embeddings)"
   ]
  },
  {
   "cell_type": "code",
   "execution_count": 7,
   "metadata": {},
   "outputs": [],
   "source": [
    "# np.save('data.npy', embeddings) # save"
   ]
  },
  {
   "cell_type": "code",
   "execution_count": 8,
   "metadata": {},
   "outputs": [],
   "source": [
    "embeddings = np.load('data.npy') # load\n"
   ]
  },
  {
   "cell_type": "code",
   "execution_count": 10,
   "metadata": {},
   "outputs": [
    {
     "name": "stdout",
     "output_type": "stream",
     "text": [
      "encoding data done\n",
      "dim: 384\n",
      "num elements: 9576\n"
     ]
    }
   ],
   "source": [
    "print(\"encoding data done\")\n",
    "dim = embeddings.shape[1]  # Dimension of embeddings\n",
    "num_elements = selected_data.shape[0]\n",
    "print('dim:', dim)\n",
    "print('num elements:', num_elements)"
   ]
  },
  {
   "cell_type": "code",
   "execution_count": null,
   "metadata": {},
   "outputs": [
    {
     "ename": "",
     "evalue": "",
     "output_type": "error",
     "traceback": [
      "\u001b[1;31mThe Kernel crashed while executing code in the current cell or a previous cell. \n",
      "\u001b[1;31mPlease review the code in the cell(s) to identify a possible cause of the failure. \n",
      "\u001b[1;31mClick <a href='https://aka.ms/vscodeJupyterKernelCrash'>here</a> for more info. \n",
      "\u001b[1;31mView Jupyter <a href='command:jupyter.viewOutput'>log</a> for further details."
     ]
    }
   ],
   "source": [
    "p = hnswlib.Index(space='cosine', dim=dim)\n",
    "p.init_index(max_elements=10000, ef_construction=200, M=16)\n",
    "p.add_items(embeddings)\n",
    "p.set_ef(50) # ef should always be > k"
   ]
  },
  {
   "cell_type": "code",
   "execution_count": 25,
   "metadata": {},
   "outputs": [
    {
     "name": "stdout",
     "output_type": "stream",
     "text": [
      "Most similar sentence is:  FINALIZE 7-Speed Electric Beater Hand Blender Mixer for Cake Mixing ,Baking with 4 Pieces Stainless Hooks Blender and High... appliances All Appliances\n"
     ]
    }
   ],
   "source": [
    "# Query HNSW index for most similar sentence\n",
    "new_sentence = \"mixer\"\n",
    "new_embedding = model.encode([new_sentence])\n",
    "\n",
    "# Fetch k neighbors\n",
    "labels, distances = p.knn_query(new_embedding, k=5)\n",
    "labels = labels.flatten()\n",
    "# print(\"Most similar sentence is: \", sentences[labels[0]])"
   ]
  },
  {
   "cell_type": "code",
   "execution_count": 41,
   "metadata": {},
   "outputs": [
    {
     "data": {
      "text/html": [
       "<div>\n",
       "<style scoped>\n",
       "    .dataframe tbody tr th:only-of-type {\n",
       "        vertical-align: middle;\n",
       "    }\n",
       "\n",
       "    .dataframe tbody tr th {\n",
       "        vertical-align: top;\n",
       "    }\n",
       "\n",
       "    .dataframe thead th {\n",
       "        text-align: right;\n",
       "    }\n",
       "</style>\n",
       "<table border=\"1\" class=\"dataframe\">\n",
       "  <thead>\n",
       "    <tr style=\"text-align: right;\">\n",
       "      <th></th>\n",
       "      <th>name</th>\n",
       "      <th>main_category</th>\n",
       "      <th>sub_category</th>\n",
       "      <th>image</th>\n",
       "      <th>link</th>\n",
       "      <th>ratings</th>\n",
       "      <th>no_of_ratings</th>\n",
       "      <th>discount_price</th>\n",
       "      <th>actual_price</th>\n",
       "      <th>combined_features</th>\n",
       "    </tr>\n",
       "  </thead>\n",
       "  <tbody>\n",
       "    <tr>\n",
       "      <th>9534</th>\n",
       "      <td>FINALIZE 7-Speed Electric Beater Hand Blender ...</td>\n",
       "      <td>appliances</td>\n",
       "      <td>All Appliances</td>\n",
       "      <td>https://m.media-amazon.com/images/W/IMAGERENDE...</td>\n",
       "      <td>https://www.amazon.in/FINALIZE-Electric-Stainl...</td>\n",
       "      <td>3.9</td>\n",
       "      <td>43</td>\n",
       "      <td>₹598</td>\n",
       "      <td>₹1,999</td>\n",
       "      <td>FINALIZE 7-Speed Electric Beater Hand Blender ...</td>\n",
       "    </tr>\n",
       "    <tr>\n",
       "      <th>6702</th>\n",
       "      <td>R k g Enterprises Scarlett Super Hand Mixer Wi...</td>\n",
       "      <td>appliances</td>\n",
       "      <td>All Appliances</td>\n",
       "      <td>https://m.media-amazon.com/images/I/61ovt+M0I3...</td>\n",
       "      <td>https://www.amazon.in/Scarlett-Original-Multic...</td>\n",
       "      <td>NaN</td>\n",
       "      <td>NaN</td>\n",
       "      <td>₹525</td>\n",
       "      <td>₹1,302</td>\n",
       "      <td>R k g Enterprises Scarlett Super Hand Mixer Wi...</td>\n",
       "    </tr>\n",
       "    <tr>\n",
       "      <th>7223</th>\n",
       "      <td>R k g Enterprises Scarlett Super Hand Mixer Wi...</td>\n",
       "      <td>appliances</td>\n",
       "      <td>All Appliances</td>\n",
       "      <td>https://m.media-amazon.com/images/I/61ovt+M0I3...</td>\n",
       "      <td>https://www.amazon.in/Scarlett-Original-Multic...</td>\n",
       "      <td>NaN</td>\n",
       "      <td>NaN</td>\n",
       "      <td>₹525</td>\n",
       "      <td>₹1,302</td>\n",
       "      <td>R k g Enterprises Scarlett Super Hand Mixer Wi...</td>\n",
       "    </tr>\n",
       "    <tr>\n",
       "      <th>6533</th>\n",
       "      <td>Arth-Enterprises 7 Speed Hand Mixer With 4 Pie...</td>\n",
       "      <td>appliances</td>\n",
       "      <td>All Appliances</td>\n",
       "      <td>https://m.media-amazon.com/images/I/41y-ZfKPMn...</td>\n",
       "      <td>https://www.amazon.in/Stainless-Blender-Kitche...</td>\n",
       "      <td>3.5</td>\n",
       "      <td>23</td>\n",
       "      <td>₹499</td>\n",
       "      <td>₹1,299</td>\n",
       "      <td>Arth-Enterprises 7 Speed Hand Mixer With 4 Pie...</td>\n",
       "    </tr>\n",
       "    <tr>\n",
       "      <th>9513</th>\n",
       "      <td>Finalize Hand Mixer Beater Blender for Cake Ba...</td>\n",
       "      <td>appliances</td>\n",
       "      <td>All Appliances</td>\n",
       "      <td>https://m.media-amazon.com/images/I/61BZOhtSRP...</td>\n",
       "      <td>https://www.amazon.in/Finalize-Blender-Electri...</td>\n",
       "      <td>3.9</td>\n",
       "      <td>248</td>\n",
       "      <td>₹649</td>\n",
       "      <td>₹1,499</td>\n",
       "      <td>Finalize Hand Mixer Beater Blender for Cake Ba...</td>\n",
       "    </tr>\n",
       "  </tbody>\n",
       "</table>\n",
       "</div>"
      ],
      "text/plain": [
       "                                                   name main_category  \\\n",
       "9534  FINALIZE 7-Speed Electric Beater Hand Blender ...    appliances   \n",
       "6702  R k g Enterprises Scarlett Super Hand Mixer Wi...    appliances   \n",
       "7223  R k g Enterprises Scarlett Super Hand Mixer Wi...    appliances   \n",
       "6533  Arth-Enterprises 7 Speed Hand Mixer With 4 Pie...    appliances   \n",
       "9513  Finalize Hand Mixer Beater Blender for Cake Ba...    appliances   \n",
       "\n",
       "        sub_category                                              image  \\\n",
       "9534  All Appliances  https://m.media-amazon.com/images/W/IMAGERENDE...   \n",
       "6702  All Appliances  https://m.media-amazon.com/images/I/61ovt+M0I3...   \n",
       "7223  All Appliances  https://m.media-amazon.com/images/I/61ovt+M0I3...   \n",
       "6533  All Appliances  https://m.media-amazon.com/images/I/41y-ZfKPMn...   \n",
       "9513  All Appliances  https://m.media-amazon.com/images/I/61BZOhtSRP...   \n",
       "\n",
       "                                                   link ratings no_of_ratings  \\\n",
       "9534  https://www.amazon.in/FINALIZE-Electric-Stainl...     3.9            43   \n",
       "6702  https://www.amazon.in/Scarlett-Original-Multic...     NaN           NaN   \n",
       "7223  https://www.amazon.in/Scarlett-Original-Multic...     NaN           NaN   \n",
       "6533  https://www.amazon.in/Stainless-Blender-Kitche...     3.5            23   \n",
       "9513  https://www.amazon.in/Finalize-Blender-Electri...     3.9           248   \n",
       "\n",
       "     discount_price actual_price  \\\n",
       "9534           ₹598       ₹1,999   \n",
       "6702           ₹525       ₹1,302   \n",
       "7223           ₹525       ₹1,302   \n",
       "6533           ₹499       ₹1,299   \n",
       "9513           ₹649       ₹1,499   \n",
       "\n",
       "                                      combined_features  \n",
       "9534  FINALIZE 7-Speed Electric Beater Hand Blender ...  \n",
       "6702  R k g Enterprises Scarlett Super Hand Mixer Wi...  \n",
       "7223  R k g Enterprises Scarlett Super Hand Mixer Wi...  \n",
       "6533  Arth-Enterprises 7 Speed Hand Mixer With 4 Pie...  \n",
       "9513  Finalize Hand Mixer Beater Blender for Cake Ba...  "
      ]
     },
     "execution_count": 41,
     "metadata": {},
     "output_type": "execute_result"
    }
   ],
   "source": [
    "print(selected_data.iloc[labels[0]])"
   ]
  },
  {
   "cell_type": "code",
   "execution_count": 1,
   "metadata": {},
   "outputs": [
    {
     "name": "stderr",
     "output_type": "stream",
     "text": [
      "c:\\Users\\ahmed\\AppData\\Local\\Programs\\Python\\Python311\\Lib\\site-packages\\sentence_transformers\\cross_encoder\\CrossEncoder.py:13: TqdmExperimentalWarning: Using `tqdm.autonotebook.tqdm` in notebook mode. Use `tqdm.tqdm` instead to force console mode (e.g. in jupyter console)\n",
      "  from tqdm.autonotebook import tqdm, trange\n"
     ]
    },
    {
     "name": "stdout",
     "output_type": "stream",
     "text": [
      "WARNING:tensorflow:From c:\\Users\\ahmed\\AppData\\Local\\Programs\\Python\\Python311\\Lib\\site-packages\\tf_keras\\src\\losses.py:2976: The name tf.losses.sparse_softmax_cross_entropy is deprecated. Please use tf.compat.v1.losses.sparse_softmax_cross_entropy instead.\n",
      "\n",
      "Most similar sentence is:  This is an example sentence\n",
      "Elapsed time for 1000 searches:  0.006000995635986328\n"
     ]
    }
   ],
   "source": [
    "import hnswlib\n",
    "import numpy as np\n",
    "from sentence_transformers import SentenceTransformer\n",
    "import time\n",
    "\n",
    "# Initialize Sentence Transformer Model\n",
    "model = SentenceTransformer('all-MiniLM-L6-v2')\n",
    "\n",
    "# Sentences to embed and store\n",
    "sentences = ['This is an example sentence', 'This is another one']\n",
    "\n",
    "# Create embeddings\n",
    "embeddings = model.encode(sentences)\n",
    "\n",
    "# Dimension of our vector space\n",
    "dimension = embeddings.shape[1]\n",
    "\n",
    "# Create a new index\n",
    "p = hnswlib.Index(space='cosine', dim=dimension)\n",
    "\n",
    "# Initialize an index - the maximum number of elements should be known beforehand\n",
    "p.init_index(max_elements=10000, ef_construction=200, M=16)\n",
    "\n",
    "# Element insertion (can be called several times)\n",
    "p.add_items(embeddings)\n",
    "\n",
    "# Controlling the recall by setting ef:\n",
    "p.set_ef(50) # ef should always be > k\n",
    "\n",
    "# Query HNSW index for most similar sentence\n",
    "new_sentence = \"A new sentence similar to the previous ones\"\n",
    "new_embedding = model.encode([new_sentence])\n",
    "\n",
    "# Fetch k neighbors\n",
    "labels, distances = p.knn_query(new_embedding, k=1)\n",
    "\n",
    "print(\"Most similar sentence is: \", sentences[labels[0][0]])\n",
    "\n",
    "# Measure the speed\n",
    "start_time = time.time()\n",
    "\n",
    "# Repeat the search process to get a fair measure\n",
    "for _ in range(1000):\n",
    "    labels, distances = p.knn_query(new_embedding, k=1)\n",
    "\n",
    "end_time = time.time()\n",
    "elapsed_time = end_time - start_time\n",
    "\n",
    "print(\"Elapsed time for 1000 searches: \", elapsed_time)"
   ]
  },
  {
   "cell_type": "code",
   "execution_count": null,
   "metadata": {},
   "outputs": [],
   "source": []
  }
 ],
 "metadata": {
  "kernelspec": {
   "display_name": "Python 3",
   "language": "python",
   "name": "python3"
  },
  "language_info": {
   "codemirror_mode": {
    "name": "ipython",
    "version": 3
   },
   "file_extension": ".py",
   "mimetype": "text/x-python",
   "name": "python",
   "nbconvert_exporter": "python",
   "pygments_lexer": "ipython3",
   "version": "3.11.9"
  }
 },
 "nbformat": 4,
 "nbformat_minor": 2
}
